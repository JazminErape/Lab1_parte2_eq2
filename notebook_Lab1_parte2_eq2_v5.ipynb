{
 "cells": [
  {
   "cell_type": "markdown",
   "metadata": {},
   "source": [
    "<img style=\"float: right; margin: 0px 0px 15px 15px;\" src=\"https://upload.wikimedia.org/wikipedia/commons/thumb/d/db/Logo_ITESO_normal.jpg/240px-Logo_ITESO_normal.jpg\" width=\"90px\" height=\"35px\" />\n",
    "\n",
    "\n",
    "# Laboratorio 1 parte 2 equipo 2\n",
    "## <font color= #8A0829> Microestructura y Sistemas de Trading.</font>\n",
    "- <Strong> Jazmin Calderon Erape </Strong>"
   ]
  },
  {
   "cell_type": "markdown",
   "metadata": {},
   "source": [
    "##### Función para rebalanceo. \n",
    "Conocer que acciones se vendieron y/o compraron de un mes a otro."
   ]
  },
  {
   "cell_type": "code",
   "execution_count": 1,
   "metadata": {},
   "outputs": [
    {
     "ename": "ERROR",
     "evalue": "Error in eval(expr, envir, enclos): objeto 'base_datos' no encontrado\n",
     "output_type": "error",
     "traceback": [
      "Error in eval(expr, envir, enclos): objeto 'base_datos' no encontrado\nTraceback:\n"
     ]
    }
   ],
   "source": [
    "venta_compra <- function(a, b){\n",
    "\n",
    "  # estos los tengo que comprar al precio de B\n",
    "  seincluyeron <- a[!(a %in% b)]\n",
    "\n",
    "  # estos son los que tengo que vender\n",
    "  sequitaron <- b[!(b %in% a)]\n",
    "\n",
    "  # datos que regresa la funcion\n",
    "  resultado <- list(\"sequitaron\"=sequitaron, \"seincluyeron\"=seincluyeron)\n",
    "  \n",
    "return(resultado)\n",
    "}\n",
    "#ejemplo de como usar la función\n",
    "A <- as.character(base_datos[[1]][,1])\n",
    "B <- as.character(base_datos[[4]][,1])\n",
    "\n",
    "reg <- venta_compra(a=A, b=B)\n"
   ]
  },
  {
   "cell_type": "code",
   "execution_count": null,
   "metadata": {
    "collapsed": true
   },
   "outputs": [],
   "source": []
  }
 ],
 "metadata": {
  "kernelspec": {
   "display_name": "R 3.3",
   "language": "R",
   "name": "ir3.3"
  },
  "language_info": {
   "codemirror_mode": "r",
   "file_extension": ".r",
   "mimetype": "text/x-r-source",
   "name": "R",
   "pygments_lexer": "r",
   "version": "3.5.1"
  }
 },
 "nbformat": 4,
 "nbformat_minor": 2
}
